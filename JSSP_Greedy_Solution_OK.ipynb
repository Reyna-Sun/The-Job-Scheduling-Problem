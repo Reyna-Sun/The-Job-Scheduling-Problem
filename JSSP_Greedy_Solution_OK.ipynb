{
 "cells": [
  {
   "cell_type": "markdown",
   "id": "5ba3e5d9-5589-405a-9873-e238a6775cb3",
   "metadata": {},
   "source": [
    "# 1. Generate Data"
   ]
  },
  {
   "cell_type": "code",
   "execution_count": 1,
   "id": "5abe2371-76a5-49f2-b998-f297a16370a1",
   "metadata": {},
   "outputs": [],
   "source": [
    "N_JOBS = 7\n",
    "N_MACHINES = 4"
   ]
  },
  {
   "cell_type": "code",
   "execution_count": 2,
   "id": "047ac0b5-0431-4ea3-a3f2-9ed54713bea0",
   "metadata": {},
   "outputs": [],
   "source": [
    "import random\n",
    "# The processing time of a job at a machine is defined in a matrix proc[job][machine]\n",
    "def generateData(seed=0):\n",
    "    PROC = [ [ 0 for m in range(N_MACHINES) ] for j in range(N_JOBS) ]\n",
    "    random.seed(seed)\n",
    "    for j in range(N_JOBS):\n",
    "        for m in range(N_MACHINES):\n",
    "            PROC[j][m] = random.randint(1,9)\n",
    "    return PROC"
   ]
  },
  {
   "cell_type": "code",
   "execution_count": 3,
   "id": "a0f62f26-fa55-4dc7-83f7-1c0c6c2b69cd",
   "metadata": {},
   "outputs": [],
   "source": [
    "# Initialisation code base on the last 4 digits of Student ID: 2312 7635\n",
    "PROC = generateData(7635)"
   ]
  },
  {
   "cell_type": "code",
   "execution_count": 4,
   "id": "3f974614-01de-4091-bf11-0d839c58b7b9",
   "metadata": {},
   "outputs": [
    {
     "data": {
      "text/plain": [
       "[[3, 6, 7, 3],\n",
       " [9, 1, 4, 8],\n",
       " [3, 5, 1, 3],\n",
       " [5, 5, 3, 9],\n",
       " [5, 1, 8, 5],\n",
       " [5, 9, 9, 3],\n",
       " [2, 6, 1, 7]]"
      ]
     },
     "execution_count": 4,
     "metadata": {},
     "output_type": "execute_result"
    }
   ],
   "source": [
    "PROC"
   ]
  },
  {
   "cell_type": "code",
   "execution_count": 5,
   "id": "ca281c1b-d2e6-488d-9785-837b85853ca2",
   "metadata": {
    "scrolled": true
   },
   "outputs": [
    {
     "data": {
      "text/plain": [
       "'[[3, 6, 7, 3], [9, 1, 4, 8], [3, 5, 1, 3], [5, 5, 3, 9], [5, 1, 8, 5], [5, 9, 9, 3], [2, 6, 1, 7]]'"
      ]
     },
     "execution_count": 5,
     "metadata": {},
     "output_type": "execute_result"
    }
   ],
   "source": [
    "str(PROC)"
   ]
  },
  {
   "cell_type": "markdown",
   "id": "b5f7887a-1a2f-4e9d-97af-723275ab31ab",
   "metadata": {},
   "source": [
    "# 2. Job Scheduling using Greedy Algorithm"
   ]
  },
  {
   "cell_type": "code",
   "execution_count": 6,
   "id": "58946f8c-af14-494a-b24b-a6504c6271e9",
   "metadata": {},
   "outputs": [],
   "source": [
    "def greedy_sequence(PROC):\n",
    "    job_sequence = []\n",
    "    selected_jobs = set()\n",
    "    \n",
    "    for machine in range (N_MACHINES):\n",
    "        job_time= [(PROC[job][machine], job) \n",
    "                   for job in range(N_JOBS) if job not in selected_jobs]\n",
    "\n",
    "        job_time.sort()\n",
    "        if job_time:\n",
    "            _, selected_job = job_time[0]\n",
    "            job_sequence.append(selected_job)\n",
    "            selected_jobs.add(selected_job)\n",
    "    for job in range (N_JOBS):\n",
    "        if job not in selected_jobs:\n",
    "            job_sequence.append(job)\n",
    "             \n",
    "    return job_sequence"
   ]
  },
  {
   "cell_type": "code",
   "execution_count": 21,
   "id": "ac6f8f05-7567-4c75-b47a-429d7610cccf",
   "metadata": {},
   "outputs": [],
   "source": [
    "def optimal_time(PROC, job_sequence):\n",
    "        \n",
    "    idle_time = [[0]* N_MACHINES for _ in range(N_JOBS)]\n",
    "    start_time= [[0]* N_MACHINES for _ in range(N_JOBS)]\n",
    "    all_time = [[0]* N_MACHINES for _ in range(N_JOBS)]\n",
    "    stop_time = [[0]* N_MACHINES for _ in range(N_JOBS)]\n",
    "    wait_time = [[0]* N_MACHINES for _ in range(N_JOBS)]\n",
    "\n",
    "    for job_index in range(N_JOBS):\n",
    "       \n",
    "        job = sequence[job_index]\n",
    "        for machine in range (N_MACHINES):\n",
    "            wait_time[0][machine]= 0\n",
    "            if job_index == 0 and machine == 0:\n",
    "                #Starting time on the first MACHINE\n",
    "                start_time[job][machine] = 0\n",
    "            elif job_index == 0:\n",
    "                start_time[job][machine] = all_time[job][machine-1]\n",
    "            elif machine ==0:\n",
    "                start_time[job][machine] = all_time[sequence[job_index-1]][machine]\n",
    "            else:\n",
    "                start_time[job][machine]= max(all_time[job][machine-1],\n",
    "                                           all_time[sequence[job_index-1]][machine])\n",
    "\n",
    "            # Compute idle time for the machine\n",
    "            if job_index > 0:\n",
    "                idle_time[job][machine] = max(0, start_time[job][machine] - all_time[job_sequence[job_index-1]][machine])\n",
    "\n",
    "            # Compute wait time for the job\n",
    "            if machine > 0:\n",
    "                wait_time[job][machine] = start_time[job][machine] - stop_time[job][machine-1]\n",
    "\n",
    "           # idle_time[job][machine] = max(0, start_time[job][machine]- all_time[sequence[job_index-1]][machine])\n",
    "           # wait_time[job][machine] = start_time[job][machine]- stop_time[job-1][machine]\n",
    "            all_time[job][machine] = start_time[job][machine]+PROC [job][machine]\n",
    "            stop_time[job][machine] = all_time[job][machine]\n",
    "    last_job = sequence[-1]\n",
    "    \n",
    "    total_time = all_time[last_job][N_MACHINES-1]\n",
    "    return total_time, start_time, idle_time, stop_time, wait_time"
   ]
  },
  {
   "cell_type": "code",
   "execution_count": 22,
   "id": "f5966ed1-5e24-4148-8a25-db8ad824a0bf",
   "metadata": {},
   "outputs": [],
   "source": [
    "sequence = greedy_sequence(PROC)"
   ]
  },
  {
   "cell_type": "code",
   "execution_count": 23,
   "id": "310e034c-c3cd-48d6-a12b-388b1ae02c07",
   "metadata": {},
   "outputs": [
    {
     "data": {
      "text/plain": [
       "[6, 1, 2, 0, 3, 4, 5]"
      ]
     },
     "execution_count": 23,
     "metadata": {},
     "output_type": "execute_result"
    }
   ],
   "source": [
    "sequence"
   ]
  },
  {
   "cell_type": "code",
   "execution_count": 24,
   "id": "08890e4d-bc30-4d56-a727-39697b871b0d",
   "metadata": {},
   "outputs": [],
   "source": [
    "total_time, start_time, idle_time, stop_time, wait_time = optimal_time(PROC, sequence)"
   ]
  },
  {
   "cell_type": "code",
   "execution_count": 25,
   "id": "cd6a2610-d660-4ecd-90b2-f12242887d95",
   "metadata": {},
   "outputs": [
    {
     "data": {
      "text/plain": [
       "[[14, 19, 25, 32],\n",
       " [2, 11, 12, 16],\n",
       " [11, 14, 19, 24],\n",
       " [17, 25, 32, 35],\n",
       " [22, 30, 35, 44],\n",
       " [27, 32, 43, 52],\n",
       " [0, 2, 8, 9]]"
      ]
     },
     "execution_count": 25,
     "metadata": {},
     "output_type": "execute_result"
    }
   ],
   "source": [
    "start_time"
   ]
  },
  {
   "cell_type": "code",
   "execution_count": 26,
   "id": "8451b974-fd0d-4d18-98a6-858e45c7d98a",
   "metadata": {},
   "outputs": [
    {
     "data": {
      "text/plain": [
       "[[17, 25, 32, 35],\n",
       " [11, 12, 16, 24],\n",
       " [14, 19, 20, 27],\n",
       " [22, 30, 35, 44],\n",
       " [27, 31, 43, 49],\n",
       " [32, 41, 52, 55],\n",
       " [2, 8, 9, 16]]"
      ]
     },
     "execution_count": 26,
     "metadata": {},
     "output_type": "execute_result"
    }
   ],
   "source": [
    "stop_time"
   ]
  },
  {
   "cell_type": "code",
   "execution_count": 27,
   "id": "accb4740-1d75-401d-8e95-e659bf4901ff",
   "metadata": {},
   "outputs": [
    {
     "data": {
      "text/plain": [
       "[[0, 0, 0, 0],\n",
       " [0, 0, 0, 0],\n",
       " [0, 0, 0, 4],\n",
       " [0, 3, 2, 0],\n",
       " [0, 3, 4, 1],\n",
       " [0, 0, 2, 0],\n",
       " [0, 0, 0, 0]]"
      ]
     },
     "execution_count": 27,
     "metadata": {},
     "output_type": "execute_result"
    }
   ],
   "source": [
    "wait_time"
   ]
  },
  {
   "cell_type": "code",
   "execution_count": 28,
   "id": "9c718e44-38ec-4d1f-be8c-53bb83289356",
   "metadata": {},
   "outputs": [
    {
     "data": {
      "text/plain": [
       "[[0, 0, 5, 5],\n",
       " [0, 3, 3, 0],\n",
       " [0, 2, 3, 0],\n",
       " [0, 0, 0, 0],\n",
       " [0, 0, 0, 0],\n",
       " [0, 1, 0, 3],\n",
       " [0, 0, 0, 0]]"
      ]
     },
     "execution_count": 28,
     "metadata": {},
     "output_type": "execute_result"
    }
   ],
   "source": [
    "idle_time"
   ]
  },
  {
   "cell_type": "markdown",
   "id": "2f22930f-0ae4-409b-8f99-d252e9bf5140",
   "metadata": {},
   "source": [
    "# 3. Structure of the schedule"
   ]
  },
  {
   "cell_type": "code",
   "execution_count": 29,
   "id": "17444570-aa9b-42e6-a853-98598486c120",
   "metadata": {},
   "outputs": [],
   "source": [
    "def schedule(sequence, N_JOBS, N_MACHINES, idle_time, start_time, wait_time, stop_time):\n",
    "    row = \"\"\n",
    "    row += '|---------|'\n",
    "    for m in range(N_MACHINES):\n",
    "        row += f\"------------|\" \\\n",
    "               f\"------------|\"\n",
    "    row += '\\n'\n",
    "    row += '|         |'\n",
    "    for m in range(N_MACHINES):\n",
    "        row += f\"            |\" \\\n",
    "               f\" Machine: {m:1d} |\"\n",
    "    row += '\\n'\n",
    "    for j in range(N_JOBS):\n",
    "        row += '|---------|'\n",
    "        for m in range(N_MACHINES):\n",
    "            row += f\"------------|\" \\\n",
    "                   f\"------------|\"\n",
    "        row += '\\n'\n",
    "        row += '|         |'\n",
    "        for m in range(N_MACHINES):\n",
    "            row += f\"       {' ':4s} | \" \\\n",
    "                   f\"Idle: {(idle_time[j][m]):4d} |\"\n",
    "        row += '\\n'\n",
    "        row += '|---------|'\n",
    "        for m in range(N_MACHINES):\n",
    "            row += f\"------------|\" \\\n",
    "                   f\"------------|\"\n",
    "        row += '\\n'\n",
    "        row += '|         |'\n",
    "        for m in range(N_MACHINES):\n",
    "            row += f\"       {' ':4s} | \" \\\n",
    "                   f\"Start:{(start_time[j][m]):4d} |\"  \n",
    "        row += '\\n' \n",
    "        row += f'| Job: {j+1:2d} |'\n",
    "        for m in range(N_MACHINES):\n",
    "            row += f\" Wait: {(wait_time[j][m]):4d} | \" \\\n",
    "                   f\"Proc: {(PROC[j][m]):4d} |\"\n",
    "        row += '\\n'\n",
    "        row += '|         |'\n",
    "        for m in range(N_MACHINES):\n",
    "            row += f\"       {' ':4s} | \" \\\n",
    "                   f\"Stop: {(stop_time[j][m]):4d} |\"  \n",
    "        row += '\\n' \n",
    "    row += '|---------|'\n",
    "    for m in range(N_MACHINES):\n",
    "        row += f\"------------|\" \\\n",
    "               f\"------------|\"\n",
    "    row += '\\n'\n",
    "    return row"
   ]
  },
  {
   "cell_type": "markdown",
   "id": "a7ef28b4-462b-4f42-9bc5-8b63942d93fc",
   "metadata": {},
   "source": [
    "The processing times per job and machine:"
   ]
  },
  {
   "cell_type": "code",
   "execution_count": 30,
   "id": "d17cd20b-c03b-465d-b468-a3c8fe23427f",
   "metadata": {},
   "outputs": [
    {
     "data": {
      "text/plain": [
       "[[3, 6, 7, 3],\n",
       " [9, 1, 4, 8],\n",
       " [3, 5, 1, 3],\n",
       " [5, 5, 3, 9],\n",
       " [5, 1, 8, 5],\n",
       " [5, 9, 9, 3],\n",
       " [2, 6, 1, 7]]"
      ]
     },
     "execution_count": 30,
     "metadata": {},
     "output_type": "execute_result"
    }
   ],
   "source": [
    "PROC"
   ]
  },
  {
   "cell_type": "markdown",
   "id": "7629b33d-97c6-4d2a-a31f-65e45520a1e2",
   "metadata": {},
   "source": [
    "The optimal job schedule:"
   ]
  },
  {
   "cell_type": "code",
   "execution_count": 31,
   "id": "c1ac5d36-9498-47e9-9599-ba7607a04416",
   "metadata": {},
   "outputs": [
    {
     "name": "stdout",
     "output_type": "stream",
     "text": [
      "[6, 1, 2, 0, 3, 4, 5]\n"
     ]
    }
   ],
   "source": [
    "print(sequence)"
   ]
  },
  {
   "cell_type": "markdown",
   "id": "51411408-e806-4ce9-a7e7-746267e0203b",
   "metadata": {},
   "source": [
    "The processing time of the optimal job schedule:"
   ]
  },
  {
   "cell_type": "code",
   "execution_count": 32,
   "id": "a364c36f-1260-410c-987f-707ee99401b8",
   "metadata": {},
   "outputs": [
    {
     "data": {
      "text/plain": [
       "[[17, 25, 32, 35],\n",
       " [11, 12, 16, 24],\n",
       " [14, 19, 20, 27],\n",
       " [22, 30, 35, 44],\n",
       " [27, 31, 43, 49],\n",
       " [32, 41, 52, 55],\n",
       " [2, 8, 9, 16]]"
      ]
     },
     "execution_count": 32,
     "metadata": {},
     "output_type": "execute_result"
    }
   ],
   "source": [
    "stop_time"
   ]
  },
  {
   "cell_type": "code",
   "execution_count": 33,
   "id": "3dbbf2a3-34cb-40d2-b88b-c6f715f57cbf",
   "metadata": {},
   "outputs": [
    {
     "name": "stdout",
     "output_type": "stream",
     "text": [
      "55\n"
     ]
    }
   ],
   "source": [
    "print(total_time)"
   ]
  },
  {
   "cell_type": "markdown",
   "id": "0f6a1846-c2e1-4f5b-b26e-89956a51d2f2",
   "metadata": {},
   "source": [
    "The optimal job schedule in detail:"
   ]
  },
  {
   "cell_type": "code",
   "execution_count": 35,
   "id": "13805846-38f0-4006-a81d-4494b9e4089e",
   "metadata": {},
   "outputs": [
    {
     "name": "stdout",
     "output_type": "stream",
     "text": [
      "|---------|------------|------------|------------|------------|------------|------------|------------|------------|\n",
      "|         |            | Machine: 0 |            | Machine: 1 |            | Machine: 2 |            | Machine: 3 |\n",
      "|---------|------------|------------|------------|------------|------------|------------|------------|------------|\n",
      "|         |            | Idle:    0 |            | Idle:    0 |            | Idle:    5 |            | Idle:    5 |\n",
      "|---------|------------|------------|------------|------------|------------|------------|------------|------------|\n",
      "|         |            | Start:  14 |            | Start:  19 |            | Start:  25 |            | Start:  32 |\n",
      "| Job:  1 | Wait:    0 | Proc:    3 | Wait:    0 | Proc:    6 | Wait:    0 | Proc:    7 | Wait:    0 | Proc:    3 |\n",
      "|         |            | Stop:   17 |            | Stop:   25 |            | Stop:   32 |            | Stop:   35 |\n",
      "|---------|------------|------------|------------|------------|------------|------------|------------|------------|\n",
      "|         |            | Idle:    0 |            | Idle:    3 |            | Idle:    3 |            | Idle:    0 |\n",
      "|---------|------------|------------|------------|------------|------------|------------|------------|------------|\n",
      "|         |            | Start:   2 |            | Start:  11 |            | Start:  12 |            | Start:  16 |\n",
      "| Job:  2 | Wait:    0 | Proc:    9 | Wait:    0 | Proc:    1 | Wait:    0 | Proc:    4 | Wait:    0 | Proc:    8 |\n",
      "|         |            | Stop:   11 |            | Stop:   12 |            | Stop:   16 |            | Stop:   24 |\n",
      "|---------|------------|------------|------------|------------|------------|------------|------------|------------|\n",
      "|         |            | Idle:    0 |            | Idle:    2 |            | Idle:    3 |            | Idle:    0 |\n",
      "|---------|------------|------------|------------|------------|------------|------------|------------|------------|\n",
      "|         |            | Start:  11 |            | Start:  14 |            | Start:  19 |            | Start:  24 |\n",
      "| Job:  3 | Wait:    0 | Proc:    3 | Wait:    0 | Proc:    5 | Wait:    0 | Proc:    1 | Wait:    4 | Proc:    3 |\n",
      "|         |            | Stop:   14 |            | Stop:   19 |            | Stop:   20 |            | Stop:   27 |\n",
      "|---------|------------|------------|------------|------------|------------|------------|------------|------------|\n",
      "|         |            | Idle:    0 |            | Idle:    0 |            | Idle:    0 |            | Idle:    0 |\n",
      "|---------|------------|------------|------------|------------|------------|------------|------------|------------|\n",
      "|         |            | Start:  17 |            | Start:  25 |            | Start:  32 |            | Start:  35 |\n",
      "| Job:  4 | Wait:    0 | Proc:    5 | Wait:    3 | Proc:    5 | Wait:    2 | Proc:    3 | Wait:    0 | Proc:    9 |\n",
      "|         |            | Stop:   22 |            | Stop:   30 |            | Stop:   35 |            | Stop:   44 |\n",
      "|---------|------------|------------|------------|------------|------------|------------|------------|------------|\n",
      "|         |            | Idle:    0 |            | Idle:    0 |            | Idle:    0 |            | Idle:    0 |\n",
      "|---------|------------|------------|------------|------------|------------|------------|------------|------------|\n",
      "|         |            | Start:  22 |            | Start:  30 |            | Start:  35 |            | Start:  44 |\n",
      "| Job:  5 | Wait:    0 | Proc:    5 | Wait:    3 | Proc:    1 | Wait:    4 | Proc:    8 | Wait:    1 | Proc:    5 |\n",
      "|         |            | Stop:   27 |            | Stop:   31 |            | Stop:   43 |            | Stop:   49 |\n",
      "|---------|------------|------------|------------|------------|------------|------------|------------|------------|\n",
      "|         |            | Idle:    0 |            | Idle:    1 |            | Idle:    0 |            | Idle:    3 |\n",
      "|---------|------------|------------|------------|------------|------------|------------|------------|------------|\n",
      "|         |            | Start:  27 |            | Start:  32 |            | Start:  43 |            | Start:  52 |\n",
      "| Job:  6 | Wait:    0 | Proc:    5 | Wait:    0 | Proc:    9 | Wait:    2 | Proc:    9 | Wait:    0 | Proc:    3 |\n",
      "|         |            | Stop:   32 |            | Stop:   41 |            | Stop:   52 |            | Stop:   55 |\n",
      "|---------|------------|------------|------------|------------|------------|------------|------------|------------|\n",
      "|         |            | Idle:    0 |            | Idle:    0 |            | Idle:    0 |            | Idle:    0 |\n",
      "|---------|------------|------------|------------|------------|------------|------------|------------|------------|\n",
      "|         |            | Start:   0 |            | Start:   2 |            | Start:   8 |            | Start:   9 |\n",
      "| Job:  7 | Wait:    0 | Proc:    2 | Wait:    0 | Proc:    6 | Wait:    0 | Proc:    1 | Wait:    0 | Proc:    7 |\n",
      "|         |            | Stop:    2 |            | Stop:    8 |            | Stop:    9 |            | Stop:   16 |\n",
      "|---------|------------|------------|------------|------------|------------|------------|------------|------------|\n",
      "\n"
     ]
    }
   ],
   "source": [
    "print(schedule(sequence, N_JOBS, N_MACHINES, idle_time, start_time, wait_time, stop_time))"
   ]
  },
  {
   "cell_type": "code",
   "execution_count": null,
   "id": "3d35788e-de15-48c0-801d-b3e9a3b1e58b",
   "metadata": {},
   "outputs": [],
   "source": []
  },
  {
   "cell_type": "code",
   "execution_count": null,
   "id": "f056a916-dffa-42c3-bc93-df4c940c21ad",
   "metadata": {},
   "outputs": [],
   "source": []
  }
 ],
 "metadata": {
  "kernelspec": {
   "display_name": "Python 3 (ipykernel)",
   "language": "python",
   "name": "python3"
  },
  "language_info": {
   "codemirror_mode": {
    "name": "ipython",
    "version": 3
   },
   "file_extension": ".py",
   "mimetype": "text/x-python",
   "name": "python",
   "nbconvert_exporter": "python",
   "pygments_lexer": "ipython3",
   "version": "3.11.7"
  }
 },
 "nbformat": 4,
 "nbformat_minor": 5
}
